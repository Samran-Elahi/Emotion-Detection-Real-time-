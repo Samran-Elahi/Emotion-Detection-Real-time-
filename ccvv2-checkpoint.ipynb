{
 "cells": [
  {
   "cell_type": "code",
   "execution_count": 2,
   "metadata": {},
   "outputs": [
    {
     "name": "stderr",
     "output_type": "stream",
     "text": [
      "Using TensorFlow backend.\n"
     ]
    },
    {
     "name": "stdout",
     "output_type": "stream",
     "text": [
      "number of instances:  35888\n"
     ]
    }
   ],
   "source": [
    "%matplotlib notebook\n",
    "\n",
    "import matplotlib.pyplot as plt\n",
    "import pandas as pd\n",
    "import numpy as np\n",
    "import tensorflow as tf\n",
    "from tensorflow import keras\n",
    "from keras.models import Sequential\n",
    "import keras.utils\n",
    "from keras import utils as np_utils\n",
    "\n",
    "with open(\"fer2013.csv\") as f:\n",
    " content = f.readlines()\n",
    " \n",
    "lines = np.array(content)\n",
    " \n",
    "num_of_instances = lines.size\n",
    "print(\"number of instances: \",num_of_instances)"
   ]
  },
  {
   "cell_type": "code",
   "execution_count": 3,
   "metadata": {},
   "outputs": [],
   "source": [
    "num_classes=7\n",
    "x_train, y_train, x_test, y_test = [], [], [], []\n",
    " \n",
    "for i in range(1,num_of_instances):\n",
    " try:\n",
    "  emotion, img, usage = lines[i].split(\",\")\n",
    " \n",
    "  val = img.split(\" \")\n",
    "  pixels = np.array(val, 'float32')\n",
    " \n",
    "  emotion = keras.utils.to_categorical(emotion, num_classes)\n",
    " \n",
    "  if 'Training' in usage:\n",
    "   y_train.append(emotion)\n",
    "   x_train.append(pixels)\n",
    "  elif 'PublicTest' in usage:\n",
    "   y_test.append(emotion)\n",
    "   x_test.append(pixels)\n",
    " except:\n",
    "  print(\"\", end=\"\")"
   ]
  },
  {
   "cell_type": "code",
   "execution_count": 7,
   "metadata": {},
   "outputs": [
    {
     "name": "stdout",
     "output_type": "stream",
     "text": [
      "28709 train samples\n",
      "3589 test samples\n"
     ]
    }
   ],
   "source": [
    "#data transformation for train and test sets\n",
    "\n",
    "x_train = x_train.reshape(x_train.shape[0], 48, 48, 1)\n",
    "x_test = x_test.reshape(x_test.shape[0], 48, 48, 1)\n",
    "\n",
    "print(x_train.shape[0], 'train samples')\n",
    "print(x_test.shape[0], 'test samples')"
   ]
  },
  {
   "cell_type": "code",
   "execution_count": 8,
   "metadata": {},
   "outputs": [
    {
     "name": "stdout",
     "output_type": "stream",
     "text": [
      "WARNING:tensorflow:From C:\\Users\\Samran elahi\\Anaconda3\\lib\\site-packages\\tensorflow\\python\\framework\\op_def_library.py:263: colocate_with (from tensorflow.python.framework.ops) is deprecated and will be removed in a future version.\n",
      "Instructions for updating:\n",
      "Colocations handled automatically by placer.\n",
      "WARNING:tensorflow:From C:\\Users\\Samran elahi\\Anaconda3\\lib\\site-packages\\keras\\backend\\tensorflow_backend.py:3445: calling dropout (from tensorflow.python.ops.nn_ops) with keep_prob is deprecated and will be removed in a future version.\n",
      "Instructions for updating:\n",
      "Please use `rate` instead of `keep_prob`. Rate should be set to `rate = 1 - keep_prob`.\n"
     ]
    }
   ],
   "source": [
    "from keras.layers.convolutional import Conv2D\n",
    "from keras.layers.convolutional import MaxPooling2D,AveragePooling2D\n",
    "from keras.layers import Dense, Dropout, Activation, Flatten\n",
    "import keras\n",
    "\n",
    "\n",
    "\n",
    "#construct CNN structure\n",
    "cnn = Sequential()\n",
    "\n",
    "#1st convolution layer\n",
    "cnn.add(Conv2D(64, (5, 5), activation='relu', input_shape=(48,48,1)))\n",
    "cnn.add(MaxPooling2D(pool_size=(5,5), strides=(2, 2)))\n",
    "\n",
    "#2nd convolution layer\n",
    "cnn.add(Conv2D(64, (3, 3), activation='relu'))\n",
    "cnn.add(Conv2D(64, (3, 3), activation='relu'))\n",
    "cnn.add(AveragePooling2D(pool_size=(3,3), strides=(2, 2)))\n",
    "\n",
    "#3rd convolution layer\n",
    "cnn.add(Conv2D(128, (3, 3), activation='relu'))\n",
    "cnn.add(Conv2D(128, (3, 3), activation='relu'))\n",
    "cnn.add(AveragePooling2D(pool_size=(3,3), strides=(2, 2)))\n",
    "\n",
    "cnn.add(Flatten())\n",
    "\n",
    "#fully connected neural networks\n",
    "cnn.add(Dense(1024, activation='relu'))\n",
    "cnn.add(Dropout(0.2))\n",
    "cnn.add(Dense(1024, activation='relu'))\n",
    "cnn.add(Dropout(0.2))\n",
    "\n",
    "cnn.add(Dense(num_classes, activation='softmax'))"
   ]
  },
  {
   "cell_type": "code",
   "execution_count": 11,
   "metadata": {},
   "outputs": [
    {
     "name": "stdout",
     "output_type": "stream",
     "text": [
      "WARNING:tensorflow:From C:\\Users\\Samran elahi\\Anaconda3\\lib\\site-packages\\tensorflow\\python\\ops\\math_ops.py:3066: to_int32 (from tensorflow.python.ops.math_ops) is deprecated and will be removed in a future version.\n",
      "Instructions for updating:\n",
      "Use tf.cast instead.\n",
      "Epoch 1/25\n",
      "256/256 [==============================] - 82s 321ms/step - loss: 1.8165 - acc: 0.2499\n",
      "Epoch 2/25\n",
      "256/256 [==============================] - 72s 282ms/step - loss: 1.6701 - acc: 0.3222\n",
      "Epoch 3/25\n",
      "256/256 [==============================] - 72s 282ms/step - loss: 1.4578 - acc: 0.4310\n",
      "Epoch 4/25\n",
      "256/256 [==============================] - 72s 281ms/step - loss: 1.3308 - acc: 0.4895\n",
      "Epoch 5/25\n",
      "256/256 [==============================] - 72s 282ms/step - loss: 1.2413 - acc: 0.5239\n",
      "Epoch 6/25\n",
      "256/256 [==============================] - 72s 282ms/step - loss: 1.1669 - acc: 0.5592\n",
      "Epoch 7/25\n",
      "256/256 [==============================] - 72s 282ms/step - loss: 1.1067 - acc: 0.5826\n",
      "Epoch 8/25\n",
      "256/256 [==============================] - 72s 281ms/step - loss: 1.0517 - acc: 0.6027\n",
      "Epoch 9/25\n",
      "256/256 [==============================] - 72s 282ms/step - loss: 0.9823 - acc: 0.6274\n",
      "Epoch 10/25\n",
      "256/256 [==============================] - 72s 282ms/step - loss: 0.9240 - acc: 0.6531\n",
      "Epoch 11/25\n",
      "256/256 [==============================] - 72s 282ms/step - loss: 0.8615 - acc: 0.6783\n",
      "Epoch 12/25\n",
      "256/256 [==============================] - 72s 281ms/step - loss: 0.7977 - acc: 0.7042\n",
      "Epoch 13/25\n",
      "256/256 [==============================] - 72s 282ms/step - loss: 0.7277 - acc: 0.7299\n",
      "Epoch 14/25\n",
      "256/256 [==============================] - 72s 282ms/step - loss: 0.6629 - acc: 0.7551\n",
      "Epoch 15/25\n",
      "256/256 [==============================] - 72s 282ms/step - loss: 0.6009 - acc: 0.7790\n",
      "Epoch 16/25\n",
      "256/256 [==============================] - 72s 282ms/step - loss: 0.5432 - acc: 0.8004\n",
      "Epoch 17/25\n",
      "256/256 [==============================] - 72s 282ms/step - loss: 0.4864 - acc: 0.8221\n",
      "Epoch 18/25\n",
      "256/256 [==============================] - 72s 283ms/step - loss: 0.4369 - acc: 0.8394\n",
      "Epoch 19/25\n",
      "256/256 [==============================] - 72s 282ms/step - loss: 0.3882 - acc: 0.8584\n",
      "Epoch 20/25\n",
      "256/256 [==============================] - 72s 283ms/step - loss: 0.3431 - acc: 0.8760\n",
      "Epoch 21/25\n",
      "256/256 [==============================] - 72s 282ms/step - loss: 0.3325 - acc: 0.8796\n",
      "Epoch 22/25\n",
      "256/256 [==============================] - 72s 282ms/step - loss: 0.2786 - acc: 0.8988\n",
      "Epoch 23/25\n",
      "256/256 [==============================] - 72s 281ms/step - loss: 0.2641 - acc: 0.9041\n",
      "Epoch 24/25\n",
      "256/256 [==============================] - 72s 282ms/step - loss: 0.2253 - acc: 0.9192\n",
      "Epoch 25/25\n",
      "256/256 [==============================] - 72s 282ms/step - loss: 0.2179 - acc: 0.9216\n"
     ]
    },
    {
     "data": {
      "text/plain": [
       "<keras.callbacks.History at 0x1be389b7588>"
      ]
     },
     "execution_count": 11,
     "metadata": {},
     "output_type": "execute_result"
    }
   ],
   "source": [
    "from keras.preprocessing.image import ImageDataGenerator\n",
    "batch_size=256\n",
    "epochs=25\n",
    "gen = ImageDataGenerator()\n",
    "train_generator = gen.flow(x_train, y_train, batch_size=batch_size)\n",
    "cnn.compile(loss='categorical_crossentropy'\n",
    "    , optimizer=keras.optimizers.Adam()\n",
    "    , metrics=['accuracy']\n",
    ")\n",
    "cnn.fit_generator(train_generator, steps_per_epoch=batch_size, epochs=epochs)"
   ]
  },
  {
   "cell_type": "code",
   "execution_count": 12,
   "metadata": {},
   "outputs": [
    {
     "name": "stdout",
     "output_type": "stream",
     "text": [
      "Train loss: 0.13590863904815478\n",
      "Train accuracy: 95.59023302817793\n",
      "Test loss: 2.5675464727381008\n",
      "Test accuracy: 57.481192533569306\n"
     ]
    }
   ],
   "source": [
    "train_score = cnn.evaluate(x_train, y_train, verbose=0)\n",
    "print('Train loss:', train_score[0])\n",
    "print('Train accuracy:', 100*train_score[1])\n",
    " \n",
    "test_score = cnn.evaluate(x_test, y_test, verbose=0)\n",
    "print('Test loss:', test_score[0])\n",
    "print('Test accuracy:', 100*test_score[1])"
   ]
  },
  {
   "cell_type": "code",
   "execution_count": 13,
   "metadata": {},
   "outputs": [
    {
     "data": {
      "text/plain": [
       "array([[225,   5,  70,  34,  65,  12,  56],\n",
       "       [ 15,  26,   2,   1,   6,   0,   6],\n",
       "       [ 57,   2, 194,  22, 102,  47,  72],\n",
       "       [ 43,   2,  27, 696,  37,  21,  69],\n",
       "       [ 87,   4,  93,  50, 285,  14, 120],\n",
       "       [ 18,   0,  42,  21,   6, 308,  20],\n",
       "       [ 52,   0,  53,  60, 106,   7, 329]], dtype=int64)"
      ]
     },
     "execution_count": 13,
     "metadata": {},
     "output_type": "execute_result"
    }
   ],
   "source": [
    "from sklearn.metrics import classification_report,confusion_matrix\n",
    " \n",
    "pred_list = []; actual_list = []\n",
    "\n",
    "predictions=cnn.predict(x_test)\n",
    "\n",
    " \n",
    "for i in predictions:\n",
    " \n",
    "  pred_list.append(np.argmax(i))\n",
    " \n",
    "for i in y_test:\n",
    " \n",
    "  actual_list.append(np.argmax(i))\n",
    " \n",
    "confusion_matrix(actual_list, pred_list)"
   ]
  },
  {
   "cell_type": "code",
   "execution_count": 14,
   "metadata": {},
   "outputs": [],
   "source": [
    "cnn.save('model.h5')"
   ]
  },
  {
   "cell_type": "code",
   "execution_count": 15,
   "metadata": {},
   "outputs": [],
   "source": [
    "%matplotlib inline\n",
    "import matplotlib.pyplot as plt\n",
    "\n",
    "def emotion_analysis (emotion):\n",
    "    emo=('angry','disgust','fear','happy','sad','suprise','neutral')\n",
    "    y_pos=np.arange(len(emo))\n",
    "    plt.bar(y_pos,emotion,align='center',alpha=0.5)\n",
    "    plt.xticks(y_pos,emo)\n",
    "    plt.ylabel('percentage')\n",
    "    plt.title('emotion')\n",
    "    \n",
    "    plt.show()\n",
    "    "
   ]
  },
  {
   "cell_type": "code",
   "execution_count": null,
   "metadata": {},
   "outputs": [],
   "source": []
  },
  {
   "cell_type": "code",
   "execution_count": 35,
   "metadata": {},
   "outputs": [
    {
     "data": {
      "image/png": "[encoded data removed]",
      "text/plain": [
       "<Figure size 432x288 with 1 Axes>"
      ]
     },
     "metadata": {
      "needs_background": "light"
     },
     "output_type": "display_data"
    },
    {
     "data": {
      "image/png": "[encoded data removed]",
      "text/plain": [
       "<Figure size 432x288 with 1 Axes>"
      ]
     },
     "metadata": {
      "needs_background": "light"
     },
     "output_type": "display_data"
    }
   ],
   "source": [
    "from keras.preprocessing import image\n",
    "%matplotlib inline\n",
    "import matplotlib.pyplot as plt\n",
    "\n",
    "img = image.load_img('sad.png',grayscale=True,target_size=(48,48))\n",
    "x=image.img_to_array(img)\n",
    "x=np.expand_dims(x,axis=0)\n",
    "x/=255\n",
    "custom= cnn.predict(x)\n",
    "emotion_analysis(custom[0])\n",
    "x=np.array(x,'float32')\n",
    "x=x.reshape([48,48]);\n",
    "plt.gray()\n",
    "plt.imshow(x)\n",
    "plt.show()\n",
    "\n",
    "\n",
    "\n"
   ]
  },
  {
   "cell_type": "code",
   "execution_count": 21,
   "metadata": {},
   "outputs": [
    {
     "name": "stdout",
     "output_type": "stream",
     "text": [
      "'NoneType' object has no attribute 'shape'\n"
     ]
    }
   ],
   "source": [
    "import cv2\n",
    "            \n",
    "def facecrop(image):  \n",
    "    facedata = \"haarcascade_frontalface_default.xml\"\n",
    "    cascade = cv2.CascadeClassifier(facedata)\n",
    "\n",
    "    img = cv2.imread(image)\n",
    "\n",
    "    try:\n",
    "    \n",
    "        minisize = (img.shape[1],img.shape[0])\n",
    "        miniframe = cv2.resize(img, minisize)\n",
    "\n",
    "        faces = cascade.detectMultiScale(miniframe)\n",
    "\n",
    "        for f in faces:\n",
    "            x, y, w, h = [ v for v in f ]\n",
    "            cv2.rectangle(img, (x,y), (x+w,y+h), (0,255,0), 2)\n",
    "\n",
    "            sub_face = img[y:y+h, x:x+w]\n",
    "\n",
    "            \n",
    "            cv2.imwrite('capture.jpg', sub_face)\n",
    "            #print (\"Writing: \" + image)\n",
    "\n",
    "    except Exception as e:\n",
    "        print (e)\n",
    "\n",
    "    #cv2.imshow(image, img)\n",
    "\n",
    "\n",
    "if __name__ == '__main__':\n",
    "    facecrop('1.jpg')\n"
   ]
  },
  {
   "cell_type": "code",
   "execution_count": 24,
   "metadata": {},
   "outputs": [],
   "source": [
    "from IPython.display import display, Javascript\n",
    "from base64 import b64decode\n",
    "\n",
    "def take_photo(filename='photo.jpg', quality=0.8):\n",
    "  js = Javascript()\n",
    "  display(js)\n",
    "  data = eval_js('takePhoto({})'.format(quality))\n",
    "  binary = b64decode(data.split(',')[1])\n",
    "  with open(filename, 'wb') as f:\n",
    "    f.write(binary)\n",
    "  return filename"
   ]
  },
  {
   "cell_type": "code",
   "execution_count": 25,
   "metadata": {},
   "outputs": [
    {
     "ename": "TypeError",
     "evalue": "can only concatenate str (not \"NoneType\") to str",
     "output_type": "error",
     "traceback": [
      "\u001b[1;31m---------------------------------------------------------------------------\u001b[0m",
      "\u001b[1;31mTypeError\u001b[0m                                 Traceback (most recent call last)",
      "\u001b[1;32m~\\Anaconda3\\lib\\site-packages\\IPython\\core\\formatters.py\u001b[0m in \u001b[0;36m__call__\u001b[1;34m(self, obj)\u001b[0m\n\u001b[0;32m    343\u001b[0m             \u001b[0mmethod\u001b[0m \u001b[1;33m=\u001b[0m \u001b[0mget_real_method\u001b[0m\u001b[1;33m(\u001b[0m\u001b[0mobj\u001b[0m\u001b[1;33m,\u001b[0m \u001b[0mself\u001b[0m\u001b[1;33m.\u001b[0m\u001b[0mprint_method\u001b[0m\u001b[1;33m)\u001b[0m\u001b[1;33m\u001b[0m\u001b[1;33m\u001b[0m\u001b[0m\n\u001b[0;32m    344\u001b[0m             \u001b[1;32mif\u001b[0m \u001b[0mmethod\u001b[0m \u001b[1;32mis\u001b[0m \u001b[1;32mnot\u001b[0m \u001b[1;32mNone\u001b[0m\u001b[1;33m:\u001b[0m\u001b[1;33m\u001b[0m\u001b[1;33m\u001b[0m\u001b[0m\n\u001b[1;32m--> 345\u001b[1;33m                 \u001b[1;32mreturn\u001b[0m \u001b[0mmethod\u001b[0m\u001b[1;33m(\u001b[0m\u001b[1;33m)\u001b[0m\u001b[1;33m\u001b[0m\u001b[1;33m\u001b[0m\u001b[0m\n\u001b[0m\u001b[0;32m    346\u001b[0m             \u001b[1;32mreturn\u001b[0m \u001b[1;32mNone\u001b[0m\u001b[1;33m\u001b[0m\u001b[1;33m\u001b[0m\u001b[0m\n\u001b[0;32m    347\u001b[0m         \u001b[1;32melse\u001b[0m\u001b[1;33m:\u001b[0m\u001b[1;33m\u001b[0m\u001b[1;33m\u001b[0m\u001b[0m\n",
      "\u001b[1;32m~\\Anaconda3\\lib\\site-packages\\IPython\\core\\display.py\u001b[0m in \u001b[0;36m_repr_javascript_\u001b[1;34m(self)\u001b[0m\n\u001b[0;32m   1019\u001b[0m         \u001b[1;32mfor\u001b[0m \u001b[0ml\u001b[0m \u001b[1;32min\u001b[0m \u001b[0mself\u001b[0m\u001b[1;33m.\u001b[0m\u001b[0mlib\u001b[0m\u001b[1;33m:\u001b[0m\u001b[1;33m\u001b[0m\u001b[1;33m\u001b[0m\u001b[0m\n\u001b[0;32m   1020\u001b[0m             \u001b[0mr\u001b[0m \u001b[1;33m+=\u001b[0m \u001b[0m_lib_t1\u001b[0m \u001b[1;33m%\u001b[0m \u001b[0ml\u001b[0m\u001b[1;33m\u001b[0m\u001b[1;33m\u001b[0m\u001b[0m\n\u001b[1;32m-> 1021\u001b[1;33m         \u001b[0mr\u001b[0m \u001b[1;33m+=\u001b[0m \u001b[0mself\u001b[0m\u001b[1;33m.\u001b[0m\u001b[0mdata\u001b[0m\u001b[1;33m\u001b[0m\u001b[1;33m\u001b[0m\u001b[0m\n\u001b[0m\u001b[0;32m   1022\u001b[0m         \u001b[0mr\u001b[0m \u001b[1;33m+=\u001b[0m \u001b[0m_lib_t2\u001b[0m\u001b[1;33m*\u001b[0m\u001b[0mlen\u001b[0m\u001b[1;33m(\u001b[0m\u001b[0mself\u001b[0m\u001b[1;33m.\u001b[0m\u001b[0mlib\u001b[0m\u001b[1;33m)\u001b[0m\u001b[1;33m\u001b[0m\u001b[1;33m\u001b[0m\u001b[0m\n\u001b[0;32m   1023\u001b[0m         \u001b[1;32mreturn\u001b[0m \u001b[0mr\u001b[0m\u001b[1;33m\u001b[0m\u001b[1;33m\u001b[0m\u001b[0m\n",
      "\u001b[1;31mTypeError\u001b[0m: can only concatenate str (not \"NoneType\") to str"
     ]
    },
    {
     "data": {
      "text/plain": [
       "<IPython.core.display.Javascript object>"
      ]
     },
     "metadata": {},
     "output_type": "display_data"
    },
    {
     "ename": "NameError",
     "evalue": "name 'eval_js' is not defined",
     "output_type": "error",
     "traceback": [
      "\u001b[1;31m---------------------------------------------------------------------------\u001b[0m",
      "\u001b[1;31mNameError\u001b[0m                                 Traceback (most recent call last)",
      "\u001b[1;32m<ipython-input-25-811c52a3a963>\u001b[0m in \u001b[0;36m<module>\u001b[1;34m\u001b[0m\n\u001b[1;32m----> 1\u001b[1;33m \u001b[0mtake_photo\u001b[0m\u001b[1;33m(\u001b[0m\u001b[1;33m)\u001b[0m\u001b[1;33m\u001b[0m\u001b[1;33m\u001b[0m\u001b[0m\n\u001b[0m",
      "\u001b[1;32m<ipython-input-24-f63779dea593>\u001b[0m in \u001b[0;36mtake_photo\u001b[1;34m(filename, quality)\u001b[0m\n\u001b[0;32m      5\u001b[0m   \u001b[0mjs\u001b[0m \u001b[1;33m=\u001b[0m \u001b[0mJavascript\u001b[0m\u001b[1;33m(\u001b[0m\u001b[1;33m)\u001b[0m\u001b[1;33m\u001b[0m\u001b[1;33m\u001b[0m\u001b[0m\n\u001b[0;32m      6\u001b[0m   \u001b[0mdisplay\u001b[0m\u001b[1;33m(\u001b[0m\u001b[0mjs\u001b[0m\u001b[1;33m)\u001b[0m\u001b[1;33m\u001b[0m\u001b[1;33m\u001b[0m\u001b[0m\n\u001b[1;32m----> 7\u001b[1;33m   \u001b[0mdata\u001b[0m \u001b[1;33m=\u001b[0m \u001b[0meval_js\u001b[0m\u001b[1;33m(\u001b[0m\u001b[1;34m'takePhoto({})'\u001b[0m\u001b[1;33m.\u001b[0m\u001b[0mformat\u001b[0m\u001b[1;33m(\u001b[0m\u001b[0mquality\u001b[0m\u001b[1;33m)\u001b[0m\u001b[1;33m)\u001b[0m\u001b[1;33m\u001b[0m\u001b[1;33m\u001b[0m\u001b[0m\n\u001b[0m\u001b[0;32m      8\u001b[0m   \u001b[0mbinary\u001b[0m \u001b[1;33m=\u001b[0m \u001b[0mb64decode\u001b[0m\u001b[1;33m(\u001b[0m\u001b[0mdata\u001b[0m\u001b[1;33m.\u001b[0m\u001b[0msplit\u001b[0m\u001b[1;33m(\u001b[0m\u001b[1;34m','\u001b[0m\u001b[1;33m)\u001b[0m\u001b[1;33m[\u001b[0m\u001b[1;36m1\u001b[0m\u001b[1;33m]\u001b[0m\u001b[1;33m)\u001b[0m\u001b[1;33m\u001b[0m\u001b[1;33m\u001b[0m\u001b[0m\n\u001b[0;32m      9\u001b[0m   \u001b[1;32mwith\u001b[0m \u001b[0mopen\u001b[0m\u001b[1;33m(\u001b[0m\u001b[0mfilename\u001b[0m\u001b[1;33m,\u001b[0m \u001b[1;34m'wb'\u001b[0m\u001b[1;33m)\u001b[0m \u001b[1;32mas\u001b[0m \u001b[0mf\u001b[0m\u001b[1;33m:\u001b[0m\u001b[1;33m\u001b[0m\u001b[1;33m\u001b[0m\u001b[0m\n",
      "\u001b[1;31mNameError\u001b[0m: name 'eval_js' is not defined"
     ]
    }
   ],
   "source": [
    "take_photo()"
   ]
  }
 ],
 "metadata": {
  "kernelspec": {
   "display_name": "Python 3",
   "language": "python",
   "name": "python3"
  },
  "language_info": {
   "codemirror_mode": {
    "name": "ipython",
    "version": 3
   },
   "file_extension": ".py",
   "mimetype": "text/x-python",
   "name": "python",
   "nbconvert_exporter": "python",
   "pygments_lexer": "ipython3",
   "version": "3.7.1"
  }
 },
 "nbformat": 4,
 "nbformat_minor": 2
}
